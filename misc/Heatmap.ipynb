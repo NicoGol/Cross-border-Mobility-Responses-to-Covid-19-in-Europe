{
 "cells": [
  {
   "cell_type": "code",
   "execution_count": 1,
   "metadata": {},
   "outputs": [
    {
     "name": "stdout",
     "output_type": "stream",
     "text": [
      "Requirement already satisfied: matplotlib2tikz in c:\\users\\ngolenvaux\\anaconda3\\lib\\site-packages (0.7.6)\n",
      "Requirement already satisfied: numpy in c:\\users\\ngolenvaux\\anaconda3\\lib\\site-packages (from matplotlib2tikz) (1.19.2)\n",
      "Requirement already satisfied: six in c:\\users\\ngolenvaux\\anaconda3\\lib\\site-packages (from matplotlib2tikz) (1.15.0)\n",
      "Requirement already satisfied: matplotlib>=1.4.0 in c:\\users\\ngolenvaux\\anaconda3\\lib\\site-packages (from matplotlib2tikz) (3.3.2)\n",
      "Requirement already satisfied: Pillow in c:\\users\\ngolenvaux\\anaconda3\\lib\\site-packages (from matplotlib2tikz) (8.0.1)\n",
      "Requirement already satisfied: kiwisolver>=1.0.1 in c:\\users\\ngolenvaux\\anaconda3\\lib\\site-packages (from matplotlib>=1.4.0->matplotlib2tikz) (1.3.0)\n",
      "Requirement already satisfied: cycler>=0.10 in c:\\users\\ngolenvaux\\anaconda3\\lib\\site-packages (from matplotlib>=1.4.0->matplotlib2tikz) (0.10.0)\n",
      "Requirement already satisfied: certifi>=2020.06.20 in c:\\users\\ngolenvaux\\anaconda3\\lib\\site-packages (from matplotlib>=1.4.0->matplotlib2tikz) (2020.12.5)\n",
      "Requirement already satisfied: python-dateutil>=2.1 in c:\\users\\ngolenvaux\\anaconda3\\lib\\site-packages (from matplotlib>=1.4.0->matplotlib2tikz) (2.8.1)\n",
      "Requirement already satisfied: pyparsing!=2.0.4,!=2.1.2,!=2.1.6,>=2.0.3 in c:\\users\\ngolenvaux\\anaconda3\\lib\\site-packages (from matplotlib>=1.4.0->matplotlib2tikz) (2.4.7)\n"
     ]
    },
    {
     "data": {
      "text/plain": [
       "30"
      ]
     },
     "execution_count": 1,
     "metadata": {},
     "output_type": "execute_result"
    }
   ],
   "source": [
    "import pandas as pd\n",
    "import plotly.express as px\n",
    "import plotly.graph_objs as go\n",
    "import numpy as np\n",
    "import plotly\n",
    "import matplotlib.pyplot as plt\n",
    "import sys\n",
    "\n",
    "!{sys.executable} -m pip install matplotlib2tikz\n",
    "\n",
    "pd.set_option('display.max_rows', 1000)\n",
    "\n",
    "# Note: updates country list to keep current sample\n",
    "\n",
    "countries_tot = ['Austria', 'Belgium', 'Bosnia and Herzegovina', 'Bulgaria', 'Croatia',\n",
    "                 'Czech Republic', 'Denmark', 'Estonia', 'Finland', 'France',\n",
    "                 'Germany', 'Greece', 'Hungary', 'Ireland', 'Italy',\n",
    "                 'Latvia', 'Lithuania', 'Luxembourg', 'Netherlands', 'Norway',\n",
    "                 'Poland', 'Portugal', 'Romania', 'Serbia', 'Slovakia', \n",
    "                 'Spain', 'Slovenia', 'Sweden', 'Switzerland', 'United Kingdom']\n",
    "len(countries_tot)\n"
   ]
  },
  {
   "cell_type": "code",
   "execution_count": 2,
   "metadata": {},
   "outputs": [
    {
     "name": "stderr",
     "output_type": "stream",
     "text": [
      "C:\\Users\\ngolenvaux\\Anaconda3\\lib\\site-packages\\IPython\\core\\interactiveshell.py:3146: DtypeWarning: Columns (2,3) have mixed types.Specify dtype option on import or set low_memory=False.\n",
      "  has_raised = await self.run_ast_nodes(code_ast.body, cell_name,\n"
     ]
    },
    {
     "data": {
      "text/plain": [
       "Latvia                    482\n",
       "Slovenia                  482\n",
       "Ireland                   482\n",
       "Lithuania                 482\n",
       "Germany                   482\n",
       "Belgium                   482\n",
       "Portugal                  482\n",
       "Hungary                   482\n",
       "Sweden                    482\n",
       "Slovakia                  482\n",
       "Denmark                   482\n",
       "Estonia                   482\n",
       "Italy                     482\n",
       "Bosnia and Herzegovina    482\n",
       "Norway                    482\n",
       "Spain                     482\n",
       "Romania                   482\n",
       "Switzerland               482\n",
       "Luxembourg                482\n",
       "Netherlands               482\n",
       "Greece                    482\n",
       "Poland                    482\n",
       "Bulgaria                  482\n",
       "Serbia                    482\n",
       "United Kingdom            482\n",
       "France                    482\n",
       "Austria                   482\n",
       "Croatia                   482\n",
       "Finland                   482\n",
       "Czech Republic            482\n",
       "Name: CountryName, dtype: int64"
      ]
     },
     "metadata": {},
     "output_type": "display_data"
    },
    {
     "data": {
      "text/plain": [
       "30"
      ]
     },
     "execution_count": 2,
     "metadata": {},
     "output_type": "execute_result"
    }
   ],
   "source": [
    "df_npi = pd.read_csv('https://raw.githubusercontent.com/OxCGRT/covid-policy-tracker/master/data/OxCGRT_latest.csv')\n",
    "\n",
    "df_npi.rename(columns = {'Date':'date'}, inplace = True)\n",
    "\n",
    "#df_npi['CountryName'] = df_npi['CountryName'].str.lower()\n",
    "\n",
    "df_npi = df_npi.replace({'Slovak Republic' : 'Slovakia', \"Czechia\" : \"Czech Republic\" },regex=True)\n",
    "\n",
    "df_npi.date = df_npi.date.apply(lambda x: str(x)[:4] +'-'+str(x)[4:6]+'-'+str(x)[6:8])\n",
    "\n",
    "df_npi['RegionName'] = df_npi['RegionName'].fillna('')\n",
    "df_npi = df_npi.drop(df_npi.loc[df_npi['RegionName']!=''].index)\n",
    "\n",
    "df_npi = df_npi.drop(columns=['CountryCode', 'RegionName', 'RegionCode','Jurisdiction'])\n",
    "\n",
    "df_npi = df_npi[df_npi['CountryName'].isin(countries_tot)]\n",
    "\n",
    "display(df_npi['CountryName'].value_counts(sort=True))\n",
    "df_npi['CountryName'].nunique()"
   ]
  },
  {
   "cell_type": "code",
   "execution_count": 3,
   "metadata": {},
   "outputs": [
    {
     "data": {
      "text/plain": [
       "30"
      ]
     },
     "execution_count": 3,
     "metadata": {},
     "output_type": "execute_result"
    }
   ],
   "source": [
    "df_owid = pd.read_csv('https://raw.githubusercontent.com/owid/covid-19-data/master/public/data/owid-covid-data.csv')\n",
    "\n",
    "df_owid = df_owid.replace({'Slovak Republic' : 'Slovakia', \"Czechia\" : \"Czech Republic\" },regex=True)\n",
    "\n",
    "df_owid = df_owid[df_owid['location'].isin(countries_tot)]\n",
    "df_owid = df_owid[['location', 'date', 'new_cases_per_million','new_cases_smoothed_per_million',\n",
    "                   'new_deaths_per_million','new_deaths_smoothed_per_million','population', 'population_density',\n",
    "                   'total_cases_per_million','total_deaths_per_million','gdp_per_capita']]\n",
    "\n",
    "df_owid['location'].nunique()"
   ]
  },
  {
   "cell_type": "code",
   "execution_count": 4,
   "metadata": {},
   "outputs": [],
   "source": [
    "df_owid = pd.merge(df_owid, df_npi, how='left', left_on=['date','location'], \n",
    "              right_on=['date','CountryName']).drop(columns= ['CountryName']) \n",
    "df_owid = df_owid[df_owid.date >= '2020-02-29']\n",
    "df_owid = df_owid[df_owid.date <= '2021-02-28']\n",
    "df_owid = df_owid.fillna(0.0)\n",
    "\n",
    "df_owid.rename(columns={\"location\": \"CountryName\"}, inplace=True)\n"
   ]
  },
  {
   "cell_type": "code",
   "execution_count": 5,
   "metadata": {},
   "outputs": [
    {
     "data": {
      "image/png": "[encoded data removed]",
      "text/plain": [
       "<Figure size 1296x576 with 2 Axes>"
      ]
     },
     "metadata": {
      "needs_background": "light"
     },
     "output_type": "display_data"
    }
   ],
   "source": [
    "import seaborn as sns\n",
    "from sklearn.preprocessing import MinMaxScaler\n",
    "\n",
    "cols = ['new_cases_smoothed_per_million',\n",
    " 'new_deaths_smoothed_per_million',\n",
    " 'C1_School closing',\n",
    " 'C2_Workplace closing',\n",
    " 'C3_Cancel public events',\n",
    " 'C4_Restrictions on gatherings',\n",
    " 'C5_Close public transport',\n",
    " 'C6_Stay at home requirements',\n",
    " 'C7_Restrictions on internal movement',\n",
    " 'C8_International travel controls',\n",
    " 'H2_Testing policy',\n",
    " 'H3_Contact tracing']\n",
    "\n",
    "labels= ['New Covid cases',\n",
    " 'New Covid deaths',\n",
    " 'C1 School closing',\n",
    " 'C2 Workplace closing',\n",
    " 'C3 Cancel public events',\n",
    " 'C4 Restrictions gatherings',\n",
    " 'C5 Close public transport',\n",
    " 'C6 Stay home requirements',\n",
    " 'C7 Restr. internal movement',\n",
    " 'C8 Inter. travel controls',\n",
    " 'H2 Testing policy',\n",
    " 'H3 Contact tracing']\n",
    "\n",
    "df_owid_date = df_owid.drop(columns={'CountryName'}).groupby(['date']).mean()[cols]\n",
    "df_owid_country = df_owid.drop(columns={'date'}).groupby(['CountryName']).mean()[cols]\n",
    "df_owid_date = pd.DataFrame(MinMaxScaler().fit_transform(df_owid_date.values).transpose(),index=df_owid_date.columns,columns=df_owid_date.index)\n",
    "df_owid_country = pd.DataFrame(MinMaxScaler().fit_transform(df_owid_country.values).transpose(),index=df_owid_country.columns,columns=df_owid_country.index)\n",
    "plt.figure(figsize=(18,8))\n",
    "plt.gcf().subplots_adjust(bottom=0.15)\n",
    "\n",
    "\n",
    "ax = sns.heatmap(df_owid_date,cmap='plasma',xticklabels=25)\n",
    "ax.set_yticklabels(labels)\n",
    "plt.savefig('../output/NPIs.pdf'); \n"
   ]
  },
  {
   "cell_type": "code",
   "execution_count": 6,
   "metadata": {},
   "outputs": [],
   "source": [
    "df_owid['new_cases_smoothed_per_million'] = df_owid['new_cases_smoothed_per_million'].transform(lambda x: (x - x.min())/ (x.max() - x.min()))\n",
    "df_owid['new_deaths_smoothed_per_million'] = df_owid['new_deaths_smoothed_per_million'].transform(lambda x: (x - x.min())/ (x.max() - x.min()))\n"
   ]
  },
  {
   "cell_type": "code",
   "execution_count": null,
   "metadata": {},
   "outputs": [],
   "source": []
  },
  {
   "cell_type": "code",
   "execution_count": null,
   "metadata": {},
   "outputs": [],
   "source": []
  },
  {
   "cell_type": "code",
   "execution_count": null,
   "metadata": {},
   "outputs": [],
   "source": []
  }
 ],
 "metadata": {
  "kernelspec": {
   "display_name": "Python 3",
   "language": "python",
   "name": "python3"
  },
  "language_info": {
   "codemirror_mode": {
    "name": "ipython",
    "version": 3
   },
   "file_extension": ".py",
   "mimetype": "text/x-python",
   "name": "python",
   "nbconvert_exporter": "python",
   "pygments_lexer": "ipython3",
   "version": "3.8.5"
  }
 },
 "nbformat": 4,
 "nbformat_minor": 4
}
